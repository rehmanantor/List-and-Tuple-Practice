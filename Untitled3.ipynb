{
  "nbformat": 4,
  "nbformat_minor": 0,
  "metadata": {
    "colab": {
      "provenance": [],
      "authorship_tag": "ABX9TyOdy+xpmiHHW1zwI/sX00Jy",
      "include_colab_link": true
    },
    "kernelspec": {
      "name": "python3",
      "display_name": "Python 3"
    },
    "language_info": {
      "name": "python"
    }
  },
  "cells": [
    {
      "cell_type": "markdown",
      "metadata": {
        "id": "view-in-github",
        "colab_type": "text"
      },
      "source": [
        "<a href=\"https://colab.research.google.com/github/rehmanantor/List-and-Tuple-Practice/blob/main/Untitled3.ipynb\" target=\"_parent\"><img src=\"https://colab.research.google.com/assets/colab-badge.svg\" alt=\"Open In Colab\"/></a>"
      ]
    },
    {
      "cell_type": "code",
      "execution_count": null,
      "metadata": {
        "id": "_PdjJKq-WGpI"
      },
      "outputs": [],
      "source": [
        "list=[1,2,3,4,5,6,7,8,9,10]\n",
        "list.append(\"hello\")\n",
        "list.insert(1,'ola')\n",
        "list.remove('ola')\n",
        "\n",
        "list.pop()\n",
        "list.sort(reverse=True)\n",
        "list\n",
        "max=0\n",
        "min=9999999\n",
        "for i in list:\n",
        "  if i < min:\n",
        "    min=i\n",
        "  if i > max:\n",
        "    max=i\n",
        "\n",
        "print(\"max = \",max,\"\\nmin = \",min)\n"
      ]
    },
    {
      "cell_type": "code",
      "source": [
        "list=[1,90,43,908,54,34,123,2333,9875]\n",
        "x=list[:7]\n",
        "print(x)\n",
        "z=list[4:]\n",
        "print(z)\n",
        "list.reverse()\n",
        "print(list)\n",
        "print(p)"
      ],
      "metadata": {
        "id": "RS7kP5cYZtLI"
      },
      "execution_count": null,
      "outputs": []
    },
    {
      "cell_type": "code",
      "source": [
        "list=[1,90,43,908,54,34,123,2333,9875]\n",
        "even=[]\n",
        "odd=[]\n",
        "for i in list:\n",
        "  if i%2==0:\n",
        "    even.append(i)\n",
        "  else:\n",
        "    odd.append(i)\n",
        "print(even)\n",
        "print(odd)\n"
      ],
      "metadata": {
        "id": "CkYu1703YGsa"
      },
      "execution_count": null,
      "outputs": []
    },
    {
      "cell_type": "code",
      "source": [
        "\n",
        "list3=[]\n",
        "list2=[\"abdul\",\"lol\",\"sdad\"]\n",
        "for i in list2:\n",
        "  chr=i.upper()\n",
        "  index=list2.index(i)\n",
        "  list3.insert(index,chr)\n",
        "print(list3)\n",
        "\n"
      ],
      "metadata": {
        "id": "pndxFO5Tnn86",
        "colab": {
          "base_uri": "https://localhost:8080/"
        },
        "outputId": "50cc1c07-8a90-432e-b9ba-fd98ae55a006"
      },
      "execution_count": null,
      "outputs": [
        {
          "output_type": "stream",
          "name": "stdout",
          "text": [
            "['ABDUL', 'LOL', 'SDAD']\n"
          ]
        }
      ]
    },
    {
      "cell_type": "code",
      "source": [
        "list2=[\"abdul\",\"lol\",\"sdad\"]\n",
        "\n",
        "for i in list2:\n",
        "  if len(i)<4:\n",
        "    list2.remove(i)\n",
        "print(list2)"
      ],
      "metadata": {
        "colab": {
          "base_uri": "https://localhost:8080/"
        },
        "id": "8IpUjeRO1Jad",
        "outputId": "f38fd9e5-7cdd-43f1-debe-2d06d5756f01"
      },
      "execution_count": null,
      "outputs": [
        {
          "output_type": "stream",
          "name": "stdout",
          "text": [
            "['abdul', 'sdad']\n"
          ]
        }
      ]
    },
    {
      "cell_type": "code",
      "source": [
        "list=[[1,2,3,4,5,6,7,8]\n",
        ", [\"abdul\",'rehman'],['lomru','things'] ]\n",
        "unwrapped=[]\n",
        "for sublist in list:\n",
        "  for item in sublist:\n",
        "    unwrapped.append(item)\n",
        "print(unwrapped)\n"
      ],
      "metadata": {
        "id": "A8U-T6tr1LKC"
      },
      "execution_count": null,
      "outputs": []
    },
    {
      "cell_type": "markdown",
      "source": [
        "TUPPLES\n"
      ],
      "metadata": {
        "id": "1EPc6KO49rkS"
      }
    },
    {
      "cell_type": "code",
      "source": [
        "tupple=((1,23,44,35),(123,545,2323))\n",
        "\n",
        "print(tupple[0][0:2:1])"
      ],
      "metadata": {
        "id": "Pz2C8EDp9tQ1"
      },
      "execution_count": null,
      "outputs": []
    },
    {
      "cell_type": "code",
      "source": [
        "\n",
        "tupple=((1,23,44,35),(123,545,2323))\n",
        "sublist=[]\n",
        "listm=[]\n",
        "for subtuple in tupple:\n",
        "  sublist=list(subtuple)\n",
        "\n",
        "  listm.append(sublist)\n",
        "print(listm)"
      ],
      "metadata": {
        "id": "nq7R-ad4kP0l"
      },
      "execution_count": null,
      "outputs": []
    }
  ]
}